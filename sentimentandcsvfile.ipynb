{
 "cells": [
  {
   "cell_type": "code",
   "execution_count": 2,
   "metadata": {},
   "outputs": [],
   "source": [
    "import pandas as pd           \n",
    "from textblob import TextBlob \n",
    "from itertools import islice "
   ]
  },
  {
   "cell_type": "code",
   "execution_count": 3,
   "metadata": {},
   "outputs": [],
   "source": [
    "df_survey_data = pd.read_csv(\"svm.csv\")"
   ]
  },
  {
   "cell_type": "code",
   "execution_count": 4,
   "metadata": {},
   "outputs": [],
   "source": [
    "COLS = ['date','text', 'sentiment','subjectivity','polarity']"
   ]
  },
  {
   "cell_type": "code",
   "execution_count": 5,
   "metadata": {},
   "outputs": [],
   "source": [
    "df = pd.DataFrame(columns=COLS)"
   ]
  },
  {
   "cell_type": "code",
   "execution_count": 26,
   "metadata": {},
   "outputs": [],
   "source": [
    "for index,row in islice(df_survey_data.iterrows(), 0, None):\n",
    "    new_entry = []\n",
    "    text_lower=(row['review'])\n",
    "    blob = TextBlob(text_lower.lower())\n",
    "    sentiment = blob.sentiment\n",
    "    polarity = sentiment.polarity\n",
    "    subjectivity = sentiment.subjectivity\n",
    "    new_entry += [row['sentiment'],text_lower,sentiment,subjectivity,polarity] \n",
    "    single_survey_sentimet_df = pd.DataFrame([new_entry], columns=COLS)\n",
    "    df = df.append(single_survey_sentimet_df, ignore_index=True)\n",
    "df.to_csv('Q7_Text_Sentiment_Values.csv', mode='w', columns=COLS, index=False, encoding=\"utf-8\")"
   ]
  },
  {
   "cell_type": "code",
   "execution_count": 27,
   "metadata": {},
   "outputs": [
    {
     "data": {
      "text/html": [
       "<div>\n",
       "<style scoped>\n",
       "    .dataframe tbody tr th:only-of-type {\n",
       "        vertical-align: middle;\n",
       "    }\n",
       "\n",
       "    .dataframe tbody tr th {\n",
       "        vertical-align: top;\n",
       "    }\n",
       "\n",
       "    .dataframe thead th {\n",
       "        text-align: right;\n",
       "    }\n",
       "</style>\n",
       "<table border=\"1\" class=\"dataframe\">\n",
       "  <thead>\n",
       "    <tr style=\"text-align: right;\">\n",
       "      <th></th>\n",
       "      <th>date</th>\n",
       "      <th>text</th>\n",
       "      <th>sentiment</th>\n",
       "      <th>subjectivity</th>\n",
       "      <th>polarity</th>\n",
       "    </tr>\n",
       "  </thead>\n",
       "  <tbody>\n",
       "    <tr>\n",
       "      <th>0</th>\n",
       "      <td>positive</td>\n",
       "      <td>One of the other reviewers has mentioned that ...</td>\n",
       "      <td>(0.023433179723502305, 0.4903686635944701)</td>\n",
       "      <td>0.490369</td>\n",
       "      <td>0.023433</td>\n",
       "    </tr>\n",
       "    <tr>\n",
       "      <th>1</th>\n",
       "      <td>positive</td>\n",
       "      <td>A wonderful little production. &lt;br /&gt;&lt;br /&gt;The...</td>\n",
       "      <td>(0.1097222222222222, 0.5593434343434344)</td>\n",
       "      <td>0.559343</td>\n",
       "      <td>0.109722</td>\n",
       "    </tr>\n",
       "    <tr>\n",
       "      <th>2</th>\n",
       "      <td>positive</td>\n",
       "      <td>I thought this was a wonderful way to spend ti...</td>\n",
       "      <td>(0.35400793650793644, 0.6587301587301588)</td>\n",
       "      <td>0.658730</td>\n",
       "      <td>0.354008</td>\n",
       "    </tr>\n",
       "    <tr>\n",
       "      <th>3</th>\n",
       "      <td>negative</td>\n",
       "      <td>Basically there's a family where a little boy ...</td>\n",
       "      <td>(-0.0578125, 0.45416666666666666)</td>\n",
       "      <td>0.454167</td>\n",
       "      <td>-0.057813</td>\n",
       "    </tr>\n",
       "    <tr>\n",
       "      <th>4</th>\n",
       "      <td>positive</td>\n",
       "      <td>Petter Mattei's \"Love in the Time of Money\" is...</td>\n",
       "      <td>(0.2179522497704316, 0.45291551882460973)</td>\n",
       "      <td>0.452916</td>\n",
       "      <td>0.217952</td>\n",
       "    </tr>\n",
       "    <tr>\n",
       "      <th>5</th>\n",
       "      <td>positive</td>\n",
       "      <td>Probably my all-time favorite movie, a story o...</td>\n",
       "      <td>(0.15529411764705883, 0.5703921568627451)</td>\n",
       "      <td>0.570392</td>\n",
       "      <td>0.155294</td>\n",
       "    </tr>\n",
       "    <tr>\n",
       "      <th>6</th>\n",
       "      <td>positive</td>\n",
       "      <td>I sure would like to see a resurrection of a u...</td>\n",
       "      <td>(0.2855218855218855, 0.4751964085297419)</td>\n",
       "      <td>0.475196</td>\n",
       "      <td>0.285522</td>\n",
       "    </tr>\n",
       "    <tr>\n",
       "      <th>7</th>\n",
       "      <td>negative</td>\n",
       "      <td>This show was an amazing, fresh &amp; innovative i...</td>\n",
       "      <td>(0.08271604938271605, 0.5876543209876542)</td>\n",
       "      <td>0.587654</td>\n",
       "      <td>0.082716</td>\n",
       "    </tr>\n",
       "    <tr>\n",
       "      <th>8</th>\n",
       "      <td>negative</td>\n",
       "      <td>Encouraged by the positive comments about this...</td>\n",
       "      <td>(-0.1428628389154705, 0.75414673046252)</td>\n",
       "      <td>0.754147</td>\n",
       "      <td>-0.142863</td>\n",
       "    </tr>\n",
       "    <tr>\n",
       "      <th>9</th>\n",
       "      <td>positive</td>\n",
       "      <td>If you like original gut wrenching laughter yo...</td>\n",
       "      <td>(0.41500000000000004, 0.55)</td>\n",
       "      <td>0.550000</td>\n",
       "      <td>0.415000</td>\n",
       "    </tr>\n",
       "  </tbody>\n",
       "</table>\n",
       "</div>"
      ],
      "text/plain": [
       "       date                                               text  \\\n",
       "0  positive  One of the other reviewers has mentioned that ...   \n",
       "1  positive  A wonderful little production. <br /><br />The...   \n",
       "2  positive  I thought this was a wonderful way to spend ti...   \n",
       "3  negative  Basically there's a family where a little boy ...   \n",
       "4  positive  Petter Mattei's \"Love in the Time of Money\" is...   \n",
       "5  positive  Probably my all-time favorite movie, a story o...   \n",
       "6  positive  I sure would like to see a resurrection of a u...   \n",
       "7  negative  This show was an amazing, fresh & innovative i...   \n",
       "8  negative  Encouraged by the positive comments about this...   \n",
       "9  positive  If you like original gut wrenching laughter yo...   \n",
       "\n",
       "                                    sentiment  subjectivity  polarity  \n",
       "0  (0.023433179723502305, 0.4903686635944701)      0.490369  0.023433  \n",
       "1    (0.1097222222222222, 0.5593434343434344)      0.559343  0.109722  \n",
       "2   (0.35400793650793644, 0.6587301587301588)      0.658730  0.354008  \n",
       "3           (-0.0578125, 0.45416666666666666)      0.454167 -0.057813  \n",
       "4   (0.2179522497704316, 0.45291551882460973)      0.452916  0.217952  \n",
       "5   (0.15529411764705883, 0.5703921568627451)      0.570392  0.155294  \n",
       "6    (0.2855218855218855, 0.4751964085297419)      0.475196  0.285522  \n",
       "7   (0.08271604938271605, 0.5876543209876542)      0.587654  0.082716  \n",
       "8     (-0.1428628389154705, 0.75414673046252)      0.754147 -0.142863  \n",
       "9                 (0.41500000000000004, 0.55)      0.550000  0.415000  "
      ]
     },
     "execution_count": 27,
     "metadata": {},
     "output_type": "execute_result"
    }
   ],
   "source": [
    "df.head(10)\n"
   ]
  },
  {
   "cell_type": "code",
   "execution_count": null,
   "metadata": {},
   "outputs": [],
   "source": []
  }
 ],
 "metadata": {
  "kernelspec": {
   "display_name": "Python 3",
   "language": "python",
   "name": "python3"
  },
  "language_info": {
   "codemirror_mode": {
    "name": "ipython",
    "version": 3
   },
   "file_extension": ".py",
   "mimetype": "text/x-python",
   "name": "python",
   "nbconvert_exporter": "python",
   "pygments_lexer": "ipython3",
   "version": "3.8.2"
  }
 },
 "nbformat": 4,
 "nbformat_minor": 4
}
